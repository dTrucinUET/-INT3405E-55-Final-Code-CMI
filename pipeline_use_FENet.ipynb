{
 "cells": [
  {
   "cell_type": "code",
   "execution_count": 1,
   "id": "3bbed5a5",
   "metadata": {
    "_cell_guid": "b1076dfc-b9ad-4769-8c92-a6c4dae69d19",
    "_uuid": "8f2839f25d086af736a60e9eeb907d3b93b6e0e5",
    "execution": {
     "iopub.execute_input": "2024-12-23T12:52:54.767139Z",
     "iopub.status.busy": "2024-12-23T12:52:54.766870Z",
     "iopub.status.idle": "2024-12-23T12:53:02.568465Z",
     "shell.execute_reply": "2024-12-23T12:53:02.567767Z"
    },
    "papermill": {
     "duration": 7.809969,
     "end_time": "2024-12-23T12:53:02.570115",
     "exception": false,
     "start_time": "2024-12-23T12:52:54.760146",
     "status": "completed"
    },
    "tags": []
   },
   "outputs": [],
   "source": [
    "import numpy as np\n",
    "import pandas as pd\n",
    "import os\n",
    "import copy\n",
    "from sklearn.base import clone\n",
    "from sklearn.metrics import cohen_kappa_score\n",
    "from sklearn.model_selection import StratifiedKFold\n",
    "from scipy.optimize import minimize\n",
    "from tqdm import tqdm\n",
    "\n",
    "import torch.nn as nn\n",
    "import torch.optim as optim\n",
    "\n",
    "from colorama import Fore, Style\n",
    "from IPython.display import clear_output\n",
    "import warnings\n",
    "from lightgbm import LGBMRegressor\n",
    "from xgboost import XGBRegressor\n",
    "from catboost import CatBoostRegressor\n",
    "from sklearn.svm import SVR\n",
    "\n",
    "from sklearn.ensemble import VotingRegressor\n",
    "from sklearn.impute import SimpleImputer\n",
    "from sklearn.pipeline import Pipeline\n",
    "\n",
    "import random\n",
    "import torch\n",
    "\n",
    "warnings.filterwarnings('ignore')\n",
    "pd.options.display.max_columns = None\n"
   ]
  },
  {
   "cell_type": "code",
   "execution_count": 2,
   "id": "5edb211d",
   "metadata": {
    "execution": {
     "iopub.execute_input": "2024-12-23T12:53:02.581279Z",
     "iopub.status.busy": "2024-12-23T12:53:02.580805Z",
     "iopub.status.idle": "2024-12-23T12:53:02.588621Z",
     "shell.execute_reply": "2024-12-23T12:53:02.588068Z"
    },
    "papermill": {
     "duration": 0.014466,
     "end_time": "2024-12-23T12:53:02.589892",
     "exception": false,
     "start_time": "2024-12-23T12:53:02.575426",
     "status": "completed"
    },
    "tags": []
   },
   "outputs": [],
   "source": [
    "def seed_everything(seed):\n",
    "    random.seed(seed)\n",
    "    os.environ['PYTHONHASHSEED'] = str(seed)\n",
    "    np.random.seed(seed)\n",
    "    torch.manual_seed(seed)\n",
    "    torch.cuda.manual_seed(seed)\n",
    "    torch.backends.cudnn.deterministic = True\n",
    "    torch.backends.cudnn.benchmark = True\n",
    "\n",
    "SEED = 42\n",
    "n_splits = 5\n",
    "seed_everything(SEED)"
   ]
  },
  {
   "cell_type": "markdown",
   "id": "939172cf",
   "metadata": {
    "papermill": {
     "duration": 0.004597,
     "end_time": "2024-12-23T12:53:02.599885",
     "exception": false,
     "start_time": "2024-12-23T12:53:02.595288",
     "status": "completed"
    },
    "tags": []
   },
   "source": [
    "# Define function"
   ]
  },
  {
   "cell_type": "markdown",
   "id": "7c7ec71b",
   "metadata": {
    "papermill": {
     "duration": 0.004523,
     "end_time": "2024-12-23T12:53:02.608990",
     "exception": false,
     "start_time": "2024-12-23T12:53:02.604467",
     "status": "completed"
    },
    "tags": []
   },
   "source": [
    "## Feature engineer for tabular data"
   ]
  },
  {
   "cell_type": "code",
   "execution_count": 3,
   "id": "cb54bc43",
   "metadata": {
    "execution": {
     "iopub.execute_input": "2024-12-23T12:53:02.620111Z",
     "iopub.status.busy": "2024-12-23T12:53:02.619905Z",
     "iopub.status.idle": "2024-12-23T12:53:02.654035Z",
     "shell.execute_reply": "2024-12-23T12:53:02.653471Z"
    },
    "papermill": {
     "duration": 0.041668,
     "end_time": "2024-12-23T12:53:02.655195",
     "exception": false,
     "start_time": "2024-12-23T12:53:02.613527",
     "status": "completed"
    },
    "tags": []
   },
   "outputs": [],
   "source": [
    "from sklearn.feature_selection import SelectKBest, f_regression\n",
    "\n",
    "def feature_engineering_v2(df, selector=None, imputer=None, fit=True):\n",
    "    df = df.loc[:, ~df.columns.duplicated()]\n",
    "    if fit: \n",
    "        y = df['sii']\n",
    "\n",
    "    numeric_cols = df.select_dtypes(include=['float64', 'int64']).columns\n",
    "    season_cols = [col for col in df.columns if 'Season' in col]\n",
    "    pciat_cols = [col for col in df.columns if 'PCIAT' in col and 'Season' not in col]\n",
    "    remaining_numeric_cols = [col for col in numeric_cols if col not in pciat_cols and col not in ['sii']]\n",
    "    X = df[remaining_numeric_cols]\n",
    "    print(X.keys())\n",
    "    if np.any(np.isinf(X)):\n",
    "        X = X.replace([np.inf, -np.inf], np.nan)\n",
    "    if fit: \n",
    "        imputer = SimpleImputer()\n",
    "        imputed_data = imputer.fit_transform(X)\n",
    "        train_imputed = pd.DataFrame(imputed_data, columns=remaining_numeric_cols)\n",
    "        X = train_imputed\n",
    "    else:\n",
    "        X = imputer.transform(X)\n",
    "\n",
    "    if fit:\n",
    "        selector = SelectKBest(score_func=f_regression, k=30)\n",
    "        X_new = selector.fit_transform(X, y)\n",
    "        selected_features = X.columns[selector.get_support()]\n",
    "    else: \n",
    "        X_new = selector.transform(X)\n",
    "        selected_features = [col for col, selected in zip(remaining_numeric_cols, selector.get_support()) if selected]\n",
    "    df_selected = pd.DataFrame(X_new, columns=selected_features)\n",
    "    print(df_selected.keys())\n",
    "    return df_selected, selector, imputer\n",
    "\n",
    "def feature_engineering_tabular(df):\n",
    "    season_cols = [col for col in df.columns if 'Season' in col]\n",
    "    df = df.drop(season_cols, axis=1) \n",
    "    df['BMI_Age'] = df['Physical-BMI'] * df['Basic_Demos-Age']\n",
    "    df['Internet_Hours_Age'] = df['PreInt_EduHx-computerinternet_hoursday'] * df['Basic_Demos-Age']\n",
    "    df['BMI_Internet_Hours'] = df['Physical-BMI'] * df['PreInt_EduHx-computerinternet_hoursday']\n",
    "    df['BFP_BMI'] = df['BIA-BIA_Fat'] / df['BIA-BIA_BMI']\n",
    "    df['FFMI_BFP'] = df['BIA-BIA_FFMI'] / df['BIA-BIA_Fat']\n",
    "    df['FMI_BFP'] = df['BIA-BIA_FMI'] / df['BIA-BIA_Fat']\n",
    "    df['LST_TBW'] = df['BIA-BIA_LST'] / df['BIA-BIA_TBW']\n",
    "    df['BFP_BMR'] = df['BIA-BIA_Fat'] * df['BIA-BIA_BMR']\n",
    "    df['BFP_DEE'] = df['BIA-BIA_Fat'] * df['BIA-BIA_DEE']\n",
    "    df['BMR_Weight'] = df['BIA-BIA_BMR'] / df['Physical-Weight']\n",
    "    df['DEE_Weight'] = df['BIA-BIA_DEE'] / df['Physical-Weight']\n",
    "    df['SMM_Height'] = df['BIA-BIA_SMM'] / df['Physical-Height']\n",
    "    df['Muscle_to_Fat'] = df['BIA-BIA_SMM'] / df['BIA-BIA_FMI']\n",
    "    df['Hydration_Status'] = df['BIA-BIA_TBW'] / df['Physical-Weight']\n",
    "    df['ICW_TBW'] = df['BIA-BIA_ICW'] / df['BIA-BIA_TBW']\n",
    "    df['BMI_PHR'] = df['Physical-BMI'] * df['Physical-HeartRate']\n",
    "    \n",
    "    return df"
   ]
  },
  {
   "cell_type": "markdown",
   "id": "6b8653cc",
   "metadata": {
    "papermill": {
     "duration": 0.004398,
     "end_time": "2024-12-23T12:53:02.664296",
     "exception": false,
     "start_time": "2024-12-23T12:53:02.659898",
     "status": "completed"
    },
    "tags": []
   },
   "source": [
    "## Utils functions"
   ]
  },
  {
   "cell_type": "code",
   "execution_count": 4,
   "id": "0801b614",
   "metadata": {
    "execution": {
     "iopub.execute_input": "2024-12-23T12:53:02.674240Z",
     "iopub.status.busy": "2024-12-23T12:53:02.674015Z",
     "iopub.status.idle": "2024-12-23T12:53:02.679317Z",
     "shell.execute_reply": "2024-12-23T12:53:02.678529Z"
    },
    "papermill": {
     "duration": 0.011524,
     "end_time": "2024-12-23T12:53:02.680469",
     "exception": false,
     "start_time": "2024-12-23T12:53:02.668945",
     "status": "completed"
    },
    "tags": []
   },
   "outputs": [],
   "source": [
    "# Handle non-numeric columns\n",
    "def update(df):\n",
    "    global cat_c\n",
    "    for c in cat_c: \n",
    "        df[c] = df[c].fillna('Missing')\n",
    "        df[c] = df[c].astype('category')\n",
    "    return df\n",
    "\n",
    "def create_mapping(column, dataset):\n",
    "    unique_values = dataset[column].unique()\n",
    "    return {value: idx for idx, value in enumerate(unique_values)}\n",
    "\n",
    "\n",
    "# Function to evaluate the predictions and optimize the thresholds\n",
    "def quadratic_weighted_kappa(y_true, y_pred):\n",
    "    return cohen_kappa_score(y_true, y_pred, weights='quadratic')\n",
    "\n",
    "def threshold_Rounder(oof_non_rounded, thresholds):\n",
    "    return np.where(oof_non_rounded < thresholds[0], 0,\n",
    "                    np.where(oof_non_rounded < thresholds[1], 1,\n",
    "                             np.where(oof_non_rounded < thresholds[2], 2, 3)))\n",
    "\n",
    "def evaluate_predictions(thresholds, y_true, oof_non_rounded):\n",
    "    rounded_p = threshold_Rounder(oof_non_rounded, thresholds)\n",
    "    return -quadratic_weighted_kappa(y_true, rounded_p)"
   ]
  },
  {
   "cell_type": "markdown",
   "id": "5b72ec3d",
   "metadata": {
    "papermill": {
     "duration": 0.004398,
     "end_time": "2024-12-23T12:53:02.689904",
     "exception": false,
     "start_time": "2024-12-23T12:53:02.685506",
     "status": "completed"
    },
    "tags": []
   },
   "source": [
    "## Function to train the model with tabular data processed by SelectKBest"
   ]
  },
  {
   "cell_type": "code",
   "execution_count": 5,
   "id": "a6398cdf",
   "metadata": {
    "execution": {
     "iopub.execute_input": "2024-12-23T12:53:02.699783Z",
     "iopub.status.busy": "2024-12-23T12:53:02.699510Z",
     "iopub.status.idle": "2024-12-23T12:53:02.707603Z",
     "shell.execute_reply": "2024-12-23T12:53:02.706809Z"
    },
    "papermill": {
     "duration": 0.014435,
     "end_time": "2024-12-23T12:53:02.708839",
     "exception": false,
     "start_time": "2024-12-23T12:53:02.694404",
     "status": "completed"
    },
    "tags": []
   },
   "outputs": [],
   "source": [
    "def TrainML_Sub1(model_class, X, y, test_data):\n",
    "    SKF = StratifiedKFold(n_splits=n_splits, shuffle=True, random_state=SEED)\n",
    "    \n",
    "    train_S = []\n",
    "    test_S = []\n",
    "    \n",
    "    oof_non_rounded = np.zeros(len(y), dtype=float) \n",
    "    oof_rounded = np.zeros(len(y), dtype=int) \n",
    "    test_preds = np.zeros((len(test_data), n_splits))\n",
    "\n",
    "    for fold, (train_idx, test_idx) in enumerate(tqdm(SKF.split(X, y), desc=\"Training Folds\", total=n_splits)):\n",
    "        X_train, X_val = X.iloc[train_idx], X.iloc[test_idx]\n",
    "        y_train, y_val = y.iloc[train_idx], y.iloc[test_idx]\n",
    "        \n",
    "        X_train, selector_tr, imputer_tr = feature_engineering_v2(X_train, fit=True)\n",
    "        X_val, _, _ = feature_engineering_v2(X_val, selector_tr, imputer_tr, fit=False)\n",
    "        # Train the model\n",
    "        model = clone(model_class)\n",
    "        model.fit(X_train, y_train)\n",
    "\n",
    "        y_train_pred = model.predict(X_train)\n",
    "        y_val_pred = model.predict(X_val)\n",
    "\n",
    "        oof_non_rounded[test_idx] = y_val_pred\n",
    "        y_val_pred_rounded = y_val_pred.round(0).astype(int)\n",
    "        oof_rounded[test_idx] = y_val_pred_rounded\n",
    "\n",
    "        train_kappa = quadratic_weighted_kappa(y_train, y_train_pred.round(0).astype(int))\n",
    "        val_kappa = quadratic_weighted_kappa(y_val, y_val_pred_rounded)\n",
    "\n",
    "        train_S.append(train_kappa)\n",
    "        test_S.append(val_kappa)\n",
    "        \n",
    "        # Feature engineering for test data\n",
    "        test_data_fe, _, _ = feature_engineering_v2(test_data, selector_tr, imputer_tr, fit=False)\n",
    "        test_preds[:, fold] = model.predict(test_data_fe)\n",
    "        \n",
    "        print(f\"Fold {fold+1} - Train QWK: {train_kappa:.4f}, Validation QWK: {val_kappa:.4f}\")\n",
    "        clear_output(wait=True)\n",
    "    \n",
    "    print(f\"Mean Train QWK --> {np.mean(train_S):.4f}\")\n",
    "    print(f\"Mean Validation QWK ---> {np.mean(test_S):.4f}\")\n",
    "\n",
    "    KappaOptimizer = minimize(evaluate_predictions,\n",
    "                              x0=[0.5, 1.5, 2.5], args=(y, oof_non_rounded), \n",
    "                              method='Nelder-Mead')\n",
    "    assert KappaOptimizer.success, \"Optimization did not converge.\"\n",
    "    print('OPTIMIZED THRESHOLDS', KappaOptimizer.x)\n",
    "    \n",
    "    oof_tuned = threshold_Rounder(oof_non_rounded, KappaOptimizer.x)\n",
    "    tKappa = quadratic_weighted_kappa(y, oof_tuned)\n",
    "\n",
    "    print(f\"----> || Optimized QWK SCORE :: {Fore.CYAN}{Style.BRIGHT} {tKappa:.3f}{Style.RESET_ALL}\")\n",
    "\n",
    "    tpm = test_preds.mean(axis=1)\n",
    "    tpTuned = threshold_Rounder(tpm, KappaOptimizer.x)\n",
    "    \n",
    "    submission = pd.DataFrame({\n",
    "        'id': sample['id'],\n",
    "        'sii': tpTuned\n",
    "    })\n",
    "    optimized_thresholds = KappaOptimizer.x\n",
    "    return (submission, tKappa, oof_tuned, oof_non_rounded, y, optimized_thresholds)"
   ]
  },
  {
   "cell_type": "markdown",
   "id": "2d1cb3b6",
   "metadata": {},
   "source": [
    "## Add FENet created features"
   ]
  },
  {
   "cell_type": "code",
   "execution_count": 10,
   "id": "906d32c0",
   "metadata": {
    "execution": {
     "iopub.execute_input": "2024-12-23T12:53:02.801250Z",
     "iopub.status.busy": "2024-12-23T12:53:02.800878Z",
     "iopub.status.idle": "2024-12-23T12:53:02.820090Z",
     "shell.execute_reply": "2024-12-23T12:53:02.819381Z"
    },
    "papermill": {
     "duration": 0.026614,
     "end_time": "2024-12-23T12:53:02.821294",
     "exception": false,
     "start_time": "2024-12-23T12:53:02.794680",
     "status": "completed"
    },
    "tags": []
   },
   "outputs": [],
   "source": [
    "def TrainML_Pip6(model_class, X, y, test_data):\n",
    "    \n",
    "\n",
    "    def fe_method(df, selector=None, imputer=None, fit=True):\n",
    "        df = df.loc[:, ~df.columns.duplicated()]\n",
    "        if fit: \n",
    "            y = df['sii']\n",
    "\n",
    "        \n",
    "\n",
    "        ##### FENet stuff\n",
    "\n",
    "        df[\"Feat_0\"] = df[\"BIA-BIA_Fat\"] * df[\"BIA-BIA_Fat\"]\n",
    "        df[\"Feat_1\"] = df[\"BIA-BIA_LDM\"] * df[\"BIA-BIA_ECW\"]\n",
    "        df[\"Feat_2\"] = df[\"Physical-Diastolic_BP\"] * df[\"BIA-BIA_Frame_num\"]\n",
    "        df[\"Feat_3\"] = df[\"PAQ_A-PAQ_A_Total\"] / (df[\"FGC-FGC_SRL\"].abs() + 1e-2)\n",
    "        df[\"Feat_4\"] = df[\"BIA-BIA_BMR\"] / (df[\"SDS-SDS_Total_T\"].abs() + 1e-2)\n",
    "        df[\"Feat_5\"] = df[\"BIA-BIA_FMI\"] / (df[\"Physical-Diastolic_BP\"].abs() + 1e-2)\n",
    "        df[\"Feat_6\"] = df[\"FGC-FGC_PU_Zone\"] / (df[\"FGC-FGC_SRR_Zone\"].abs() + 1e-2)\n",
    "        df[\"Feat_7\"] = df[\"BIA-BIA_BMI\"] * df[\"BIA-BIA_Fat\"]\n",
    "        df[\"Feat_8\"] = df[\"FGC-FGC_SRL\"] * df[\"BIA-BIA_SMM\"]\n",
    "        df[\"Feat_10\"] = df[\"FGC-FGC_CU\"] / (df[\"PreInt_EduHx-computerinternet_hoursday\"].abs() + 1e-2)\n",
    "        df[\"Feat_11\"] = df[\"BIA-BIA_ECW\"] / (df[\"BIA-BIA_FMI\"].abs() + 1e-2)\n",
    "        df[\"Feat_13\"] = df[\"FGC-FGC_GSD_Zone\"] / (df[\"FGC-FGC_TL_Zone\"].abs() + 1e-2)\n",
    "        df[\"Feat_14\"] = df[\"Physical-Waist_Circumference\"] / (df[\"FGC-FGC_SRL_Zone\"].abs() + 1e-2)\n",
    "\n",
    "        for col in df.columns:\n",
    "            if col.startswith(\"Feat_\"):\n",
    "                df[col] = df[col].astype(np.float64)\n",
    "    \n",
    "        ##### End FENet\n",
    "    \n",
    "        numeric_cols = df.select_dtypes(include=['float64', 'int64']).columns\n",
    "        season_cols = [col for col in df.columns if 'Season' in col]\n",
    "        pciat_cols = [col for col in df.columns if 'PCIAT' in col and 'Season' not in col]\n",
    "        remaining_numeric_cols = [col for col in numeric_cols if col not in pciat_cols and col not in ['sii']]\n",
    "        X = df[remaining_numeric_cols]\n",
    "        print(X.keys())\n",
    "        if np.any(np.isinf(X)):\n",
    "            X = X.replace([np.inf, -np.inf], np.nan)\n",
    "        if fit: \n",
    "            imputer = SimpleImputer()\n",
    "            imputed_data = imputer.fit_transform(X)\n",
    "            train_imputed = pd.DataFrame(imputed_data, columns=remaining_numeric_cols)\n",
    "            X = train_imputed\n",
    "        else:\n",
    "            X = imputer.transform(X)\n",
    "    \n",
    "        if fit:\n",
    "            selector = SelectKBest(score_func=f_regression, k=30)\n",
    "            X_new = selector.fit_transform(X, y)\n",
    "            selected_features = X.columns[selector.get_support()]\n",
    "        else: \n",
    "            X_new = selector.transform(X)\n",
    "            selected_features = [col for col, selected in zip(remaining_numeric_cols, selector.get_support()) if selected]\n",
    "        df_selected = pd.DataFrame(X_new, columns=selected_features)\n",
    "        print(df_selected.keys())\n",
    "        return X, selector, imputer\n",
    "    SKF = StratifiedKFold(n_splits=n_splits, shuffle=True, random_state=SEED)\n",
    "    \n",
    "    train_S = []\n",
    "    test_S = []\n",
    "    \n",
    "    oof_non_rounded = np.zeros(len(y), dtype=float) \n",
    "    oof_rounded = np.zeros(len(y), dtype=int) \n",
    "    test_preds = np.zeros((len(test_data), n_splits))\n",
    "\n",
    "    for fold, (train_idx, test_idx) in enumerate(tqdm(SKF.split(X, y), desc=\"Training Folds\", total=n_splits)):\n",
    "        X_train, X_val = X.iloc[train_idx], X.iloc[test_idx]\n",
    "        y_train, y_val = y.iloc[train_idx], y.iloc[test_idx]\n",
    "        \n",
    "        X_train, selector_tr, imputer_tr = fe_method(X_train, fit=True)\n",
    "        X_val, _, _ = fe_method(X_val, selector_tr, imputer_tr, fit=False)\n",
    "        # Train the model\n",
    "        model = clone(model_class)\n",
    "        model.fit(X_train, y_train)\n",
    "\n",
    "        y_train_pred = model.predict(X_train)\n",
    "        y_val_pred = model.predict(X_val)\n",
    "\n",
    "        oof_non_rounded[test_idx] = y_val_pred\n",
    "        y_val_pred_rounded = y_val_pred.round(0).astype(int)\n",
    "        oof_rounded[test_idx] = y_val_pred_rounded\n",
    "\n",
    "        train_kappa = quadratic_weighted_kappa(y_train, y_train_pred.round(0).astype(int))\n",
    "        val_kappa = quadratic_weighted_kappa(y_val, y_val_pred_rounded)\n",
    "\n",
    "        train_S.append(train_kappa)\n",
    "        test_S.append(val_kappa)\n",
    "        \n",
    "        # Feature engineering for test data\n",
    "        test_data_fe, _, _ = fe_method(test_data, selector_tr, imputer_tr, fit=False)\n",
    "        test_preds[:, fold] = model.predict(test_data_fe)\n",
    "        \n",
    "        print(f\"Fold {fold+1} - Train QWK: {train_kappa:.4f}, Validation QWK: {val_kappa:.4f}\")\n",
    "        clear_output(wait=True)\n",
    "    \n",
    "    print(f\"Mean Train QWK --> {np.mean(train_S):.4f}\")\n",
    "    print(f\"Mean Validation QWK ---> {np.mean(test_S):.4f}\")\n",
    "\n",
    "    KappaOptimizer = minimize(evaluate_predictions,\n",
    "                              x0=[0.5, 1.5, 2.5], args=(y, oof_non_rounded), \n",
    "                              method='Nelder-Mead')\n",
    "    assert KappaOptimizer.success, \"Optimization did not converge.\"\n",
    "    print('OPTIMIZED THRESHOLDS', KappaOptimizer.x)\n",
    "    \n",
    "    oof_tuned = threshold_Rounder(oof_non_rounded, KappaOptimizer.x)\n",
    "    tKappa = quadratic_weighted_kappa(y, oof_tuned)\n",
    "\n",
    "    print(f\"----> || Optimized QWK SCORE :: {Fore.CYAN}{Style.BRIGHT} {tKappa:.3f}{Style.RESET_ALL}\")\n",
    "\n",
    "    tpm = test_preds.mean(axis=1)\n",
    "    tpTuned = threshold_Rounder(tpm, KappaOptimizer.x)\n",
    "    \n",
    "    submission = pd.DataFrame({\n",
    "        'id': sample['id'],\n",
    "        'sii': tpTuned\n",
    "    })\n",
    "    optimized_thresholds = KappaOptimizer.x\n",
    "    return (submission, tKappa, oof_tuned, oof_non_rounded, y, optimized_thresholds)\n",
    "\n",
    "TrainML_Pip7 = TrainML_Pip6"
   ]
  },
  {
   "cell_type": "markdown",
   "id": "27dcd0eb",
   "metadata": {
    "papermill": {
     "duration": 0.006124,
     "end_time": "2024-12-23T12:53:02.832219",
     "exception": false,
     "start_time": "2024-12-23T12:53:02.826095",
     "status": "completed"
    },
    "tags": []
   },
   "source": [
    "## Function to train the model with tabular data processed by FENet"
   ]
  },
  {
   "cell_type": "code",
   "execution_count": 11,
   "id": "b233a6a0",
   "metadata": {
    "execution": {
     "iopub.execute_input": "2024-12-23T12:53:02.842893Z",
     "iopub.status.busy": "2024-12-23T12:53:02.842695Z",
     "iopub.status.idle": "2024-12-23T12:53:02.849933Z",
     "shell.execute_reply": "2024-12-23T12:53:02.849309Z"
    },
    "papermill": {
     "duration": 0.013638,
     "end_time": "2024-12-23T12:53:02.851041",
     "exception": false,
     "start_time": "2024-12-23T12:53:02.837403",
     "status": "completed"
    },
    "tags": []
   },
   "outputs": [],
   "source": [
    "def TrainML(model_class, X, y, test_data):\n",
    "    SKF = StratifiedKFold(n_splits=n_splits, shuffle=True, random_state=SEED)\n",
    "    \n",
    "    train_S = []\n",
    "    test_S = []\n",
    "    \n",
    "    oof_non_rounded = np.zeros(len(y), dtype=float) \n",
    "    oof_rounded = np.zeros(len(y), dtype=int) \n",
    "    test_preds = np.zeros((len(test_data), n_splits))\n",
    "\n",
    "    for fold, (train_idx, test_idx) in enumerate(tqdm(SKF.split(X, y), desc=\"Training Folds\", total=n_splits)):\n",
    "        X_train, X_val = X.iloc[train_idx], X.iloc[test_idx]\n",
    "        y_train, y_val = y.iloc[train_idx], y.iloc[test_idx]\n",
    "        model = clone(model_class)\n",
    "        model.fit(X_train, y_train)\n",
    "\n",
    "        y_train_pred = model.predict(X_train)\n",
    "        y_val_pred = model.predict(X_val)\n",
    "\n",
    "        oof_non_rounded[test_idx] = y_val_pred\n",
    "        y_val_pred_rounded = y_val_pred.round(0).astype(int)\n",
    "        oof_rounded[test_idx] = y_val_pred_rounded\n",
    "\n",
    "        train_kappa = quadratic_weighted_kappa(y_train, y_train_pred.round(0).astype(int))\n",
    "        val_kappa = quadratic_weighted_kappa(y_val, y_val_pred_rounded)\n",
    "\n",
    "        train_S.append(train_kappa)\n",
    "        test_S.append(val_kappa)\n",
    "        \n",
    "        test_preds[:, fold] = model.predict(test_data)\n",
    "        \n",
    "        print(f\"Fold {fold+1} - Train QWK: {train_kappa:.4f}, Validation QWK: {val_kappa:.4f}\")\n",
    "        clear_output(wait=True)\n",
    "    print(f\"Mean Train QWK --> {np.mean(train_S):.4f}\")\n",
    "    print(f\"Mean Validation QWK ---> {np.mean(test_S):.4f}\")\n",
    "\n",
    "    KappaOPtimizer = minimize(evaluate_predictions,\n",
    "                              x0=[0.5, 1.5, 2.5], args=(y, oof_non_rounded), \n",
    "                              method='Nelder-Mead')\n",
    "    assert KappaOPtimizer.success, \"Optimization did not converge.\"\n",
    "    print('OPTIMIZED THRESHOLDS', KappaOPtimizer.x)\n",
    "    oof_tuned = threshold_Rounder(oof_non_rounded, KappaOPtimizer.x)\n",
    "    tKappa = quadratic_weighted_kappa(y, oof_tuned)\n",
    "\n",
    "    print(f\"----> || Optimized QWK SCORE :: {Fore.CYAN}{Style.BRIGHT} {tKappa:.3f}{Style.RESET_ALL}\")\n",
    "\n",
    "    tpm = test_preds.mean(axis=1)\n",
    "    tpTuned = threshold_Rounder(tpm, KappaOPtimizer.x)\n",
    "    \n",
    "    submission = pd.DataFrame({\n",
    "        'id': sample['id'],\n",
    "        'sii': tpTuned\n",
    "    })\n",
    "    optimized_thresholds = KappaOPtimizer.x\n",
    "    return submission, oof_tuned, oof_non_rounded, y, optimized_thresholds"
   ]
  },
  {
   "cell_type": "markdown",
   "id": "f60c66fd",
   "metadata": {
    "papermill": {
     "duration": 0.004542,
     "end_time": "2024-12-23T12:53:02.860360",
     "exception": false,
     "start_time": "2024-12-23T12:53:02.855818",
     "status": "completed"
    },
    "tags": []
   },
   "source": [
    "# Define features"
   ]
  },
  {
   "cell_type": "markdown",
   "id": "3bf42a45",
   "metadata": {
    "papermill": {
     "duration": 0.00448,
     "end_time": "2024-12-23T12:53:02.869496",
     "exception": false,
     "start_time": "2024-12-23T12:53:02.865016",
     "status": "completed"
    },
    "tags": []
   },
   "source": [
    "## Normal features"
   ]
  },
  {
   "cell_type": "code",
   "execution_count": 12,
   "id": "3935c3ec",
   "metadata": {
    "execution": {
     "iopub.execute_input": "2024-12-23T12:53:02.879409Z",
     "iopub.status.busy": "2024-12-23T12:53:02.879200Z",
     "iopub.status.idle": "2024-12-23T12:53:02.957770Z",
     "shell.execute_reply": "2024-12-23T12:53:02.957001Z"
    },
    "papermill": {
     "duration": 0.085135,
     "end_time": "2024-12-23T12:53:02.959160",
     "exception": false,
     "start_time": "2024-12-23T12:53:02.874025",
     "status": "completed"
    },
    "tags": []
   },
   "outputs": [],
   "source": [
    "train = pd.read_csv('/kaggle/input/child-mind-institute-problematic-internet-use/train.csv')\n",
    "test = pd.read_csv('/kaggle/input/child-mind-institute-problematic-internet-use/test.csv')\n",
    "sample = pd.read_csv('/kaggle/input/child-mind-institute-problematic-internet-use/sample_submission.csv')\n",
    "\n",
    "total_features = list(test.columns)\n",
    "total_features.remove('id')\n",
    "\n",
    "cat_c = ['Basic_Demos-Enroll_Season', 'CGAS-Season', 'Physical-Season', \n",
    "          'Fitness_Endurance-Season', 'FGC-Season', 'BIA-Season', \n",
    "          'PAQ_A-Season', 'PAQ_C-Season', 'SDS-Season', 'PreInt_EduHx-Season']"
   ]
  },
  {
   "cell_type": "code",
   "execution_count": 13,
   "id": "e43622e9",
   "metadata": {
    "execution": {
     "iopub.execute_input": "2024-12-23T12:53:02.969516Z",
     "iopub.status.busy": "2024-12-23T12:53:02.969288Z",
     "iopub.status.idle": "2024-12-23T12:53:02.973555Z",
     "shell.execute_reply": "2024-12-23T12:53:02.972928Z"
    },
    "papermill": {
     "duration": 0.010706,
     "end_time": "2024-12-23T12:53:02.974834",
     "exception": false,
     "start_time": "2024-12-23T12:53:02.964128",
     "status": "completed"
    },
    "tags": []
   },
   "outputs": [],
   "source": [
    "noseason_features = ['Basic_Demos-Age', 'Basic_Demos-Sex',\n",
    "                'CGAS-CGAS_Score', 'Physical-BMI',\n",
    "                'Physical-Height', 'Physical-Weight', 'Physical-Waist_Circumference',\n",
    "                'Physical-Diastolic_BP', 'Physical-HeartRate', 'Physical-Systolic_BP',\n",
    "                'Fitness_Endurance-Max_Stage',\n",
    "                'Fitness_Endurance-Time_Mins', 'Fitness_Endurance-Time_Sec',\n",
    "                'FGC-FGC_CU', 'FGC-FGC_CU_Zone', 'FGC-FGC_GSND',\n",
    "                'FGC-FGC_GSND_Zone', 'FGC-FGC_GSD', 'FGC-FGC_GSD_Zone', 'FGC-FGC_PU',\n",
    "                'FGC-FGC_PU_Zone', 'FGC-FGC_SRL', 'FGC-FGC_SRL_Zone', 'FGC-FGC_SRR',\n",
    "                'FGC-FGC_SRR_Zone', 'FGC-FGC_TL', 'FGC-FGC_TL_Zone',\n",
    "                'BIA-BIA_Activity_Level_num', 'BIA-BIA_BMC', 'BIA-BIA_BMI',\n",
    "                'BIA-BIA_BMR', 'BIA-BIA_DEE', 'BIA-BIA_ECW', 'BIA-BIA_FFM',\n",
    "                'BIA-BIA_FFMI', 'BIA-BIA_FMI', 'BIA-BIA_Fat', 'BIA-BIA_Frame_num',\n",
    "                'BIA-BIA_ICW', 'BIA-BIA_LDM', 'BIA-BIA_LST', 'BIA-BIA_SMM',\n",
    "                'BIA-BIA_TBW', 'PAQ_A-PAQ_A_Total',\n",
    "                'PAQ_C-PAQ_C_Total', 'SDS-SDS_Total_Raw',\n",
    "                'SDS-SDS_Total_T',\n",
    "                'PreInt_EduHx-computerinternet_hoursday', 'BMI_Age','Internet_Hours_Age','BMI_Internet_Hours',\n",
    "                'BFP_BMI', 'FFMI_BFP', 'FMI_BFP', 'LST_TBW', 'BFP_BMR', 'BFP_DEE', 'BMR_Weight', 'DEE_Weight',\n",
    "                'SMM_Height', 'Muscle_to_Fat', 'Hydration_Status', 'ICW_TBW','BMI_PHR']"
   ]
  },
  {
   "cell_type": "markdown",
   "id": "0326d863",
   "metadata": {
    "papermill": {
     "duration": 0.004456,
     "end_time": "2024-12-23T12:53:02.983910",
     "exception": false,
     "start_time": "2024-12-23T12:53:02.979454",
     "status": "completed"
    },
    "tags": []
   },
   "source": [
    "# Submission "
   ]
  },
  {
   "cell_type": "code",
   "execution_count": 14,
   "id": "e151e5fc",
   "metadata": {
    "execution": {
     "iopub.execute_input": "2024-12-23T12:53:02.993811Z",
     "iopub.status.busy": "2024-12-23T12:53:02.993556Z",
     "iopub.status.idle": "2024-12-23T12:53:03.007421Z",
     "shell.execute_reply": "2024-12-23T12:53:03.006861Z"
    },
    "papermill": {
     "duration": 0.020233,
     "end_time": "2024-12-23T12:53:03.008745",
     "exception": false,
     "start_time": "2024-12-23T12:53:02.988512",
     "status": "completed"
    },
    "tags": []
   },
   "outputs": [],
   "source": [
    "train_sub1 = train\n",
    "test_sub1 = test\n",
    "train_sub1 = train_sub1.dropna(subset='sii')"
   ]
  },
  {
   "cell_type": "code",
   "execution_count": 15,
   "id": "0b82f92a",
   "metadata": {
    "execution": {
     "iopub.execute_input": "2024-12-23T12:53:03.018533Z",
     "iopub.status.busy": "2024-12-23T12:53:03.018290Z",
     "iopub.status.idle": "2024-12-23T12:53:03.021478Z",
     "shell.execute_reply": "2024-12-23T12:53:03.020715Z"
    },
    "papermill": {
     "duration": 0.009343,
     "end_time": "2024-12-23T12:53:03.022631",
     "exception": false,
     "start_time": "2024-12-23T12:53:03.013288",
     "status": "completed"
    },
    "tags": []
   },
   "outputs": [],
   "source": [
    "X_sub1 = train_sub1\n",
    "y_sub1 = train_sub1['sii']"
   ]
  },
  {
   "cell_type": "code",
   "execution_count": 16,
   "id": "a9b83057",
   "metadata": {
    "execution": {
     "iopub.execute_input": "2024-12-23T12:53:03.032469Z",
     "iopub.status.busy": "2024-12-23T12:53:03.032214Z",
     "iopub.status.idle": "2024-12-23T12:53:03.043469Z",
     "shell.execute_reply": "2024-12-23T12:53:03.042699Z"
    },
    "papermill": {
     "duration": 0.017542,
     "end_time": "2024-12-23T12:53:03.044803",
     "exception": false,
     "start_time": "2024-12-23T12:53:03.027261",
     "status": "completed"
    },
    "tags": []
   },
   "outputs": [],
   "source": [
    "SVR_Best_Params = {\n",
    "    'C': 0.1,\n",
    "    'epsilon': 0.1,\n",
    "    'kernel': 'rbf',\n",
    "    'gamma': 'scale',\n",
    "}\n",
    "\n",
    "CatBoost_Best_Params = {\n",
    "    'learning_rate': 0.0021172579310639343,\n",
    "    'depth': 6,\n",
    "    'iterations': 130,\n",
    "    'random_seed': SEED,\n",
    "    'verbose': 0,\n",
    "    'l2_leaf_reg': 0.32557701990001503,\n",
    "    'task_type': 'GPU',  \n",
    "    'devices': '0'\n",
    "}\n",
    "\n",
    "XGB_Best_Params = {\n",
    "    'n_estimators': 700,\n",
    "    'max_depth': 4,\n",
    "    'learning_rate': 0.03325152156380898,\n",
    "    'subsample': 0.25295047248406266,\n",
    "    'colsample_bytree': 0.9760859719849787,\n",
    "    'gamma': 0.20085951790463402,\n",
    "    'min_child_weight': 11,\n",
    "    'eval_metric': 'rmse',\n",
    "    'objective': 'reg:squarederror',\n",
    "    'tree_method': 'gpu_hist',\n",
    "    'predictor': 'gpu_predictor',\n",
    "    'gpu_id': 0\n",
    "}\n",
    "\n",
    "LightGBM_Best_Params = {\n",
    "    'max_depth': 3,\n",
    "    'min_data_in_leaf': 40,\n",
    "    'num_leaves': 190,\n",
    "    'learning_rate': 0.05107368421432176,\n",
    "    'feature_fraction': 0.9918350138636185,\n",
    "    'bagging_fraction': 0.9331400899763774,\n",
    "    'bagging_freq': 1,\n",
    "    'lambda_l1': 9.49641646280519,\n",
    "    'lambda_l2': 2.446305429623661,\n",
    "    'min_gain_to_split': 0.05262124930522051,\n",
    "    'device_type': 'gpu',\n",
    "    'gpu_device_id': 0,\n",
    "    'verbosity': -1\n",
    "}\n",
    "\n",
    "from sklearn.ensemble import RandomForestRegressor\n",
    "catboost_model = CatBoostRegressor(**CatBoost_Best_Params)\n",
    "xgb_model = XGBRegressor(**XGB_Best_Params)\n",
    "lightgbm_model = LGBMRegressor(**LightGBM_Best_Params)\n",
    "svr_model = SVR(**SVR_Best_Params)\n",
    "rf_model = RandomForestRegressor(random_state=SEED)\n",
    "\n",
    "final_voting_model = VotingRegressor(\n",
    "    estimators=[\n",
    "        ('lightgbm', lightgbm_model),\n",
    "        ('xgboost', xgb_model),\n",
    "        ('catboost', catboost_model),\n",
    "    ],\n",
    "    weights=[4.0, 4.0, 4.0]\n",
    ")\n",
    "\n",
    "X = train.drop(['sii'], axis=1)\n",
    "y = train['sii']"
   ]
  },
  {
   "cell_type": "code",
   "execution_count": 17,
   "id": "05773fe7",
   "metadata": {
    "execution": {
     "iopub.execute_input": "2024-12-23T12:53:03.054929Z",
     "iopub.status.busy": "2024-12-23T12:53:03.054690Z",
     "iopub.status.idle": "2024-12-23T12:53:09.537120Z",
     "shell.execute_reply": "2024-12-23T12:53:09.536275Z"
    },
    "papermill": {
     "duration": 6.488895,
     "end_time": "2024-12-23T12:53:09.538447",
     "exception": false,
     "start_time": "2024-12-23T12:53:03.049552",
     "status": "completed"
    },
    "tags": []
   },
   "outputs": [
    {
     "name": "stderr",
     "output_type": "stream",
     "text": [
      "Training Folds: 100%|██████████| 5/5 [00:06<00:00,  1.25s/it]"
     ]
    },
    {
     "name": "stdout",
     "output_type": "stream",
     "text": [
      "Mean Train QWK --> 0.4439\n",
      "Mean Validation QWK ---> 0.3589\n"
     ]
    },
    {
     "name": "stderr",
     "output_type": "stream",
     "text": [
      "\n"
     ]
    },
    {
     "name": "stdout",
     "output_type": "stream",
     "text": [
      "OPTIMIZED THRESHOLDS [0.62415403 0.96634143 2.75491693]\n",
      "----> || Optimized QWK SCORE :: \u001b[36m\u001b[1m 0.462\u001b[0m\n",
      "Val score sub1 with best parameters: 0.46182996544188093\n"
     ]
    }
   ],
   "source": [
    "# submission1, val_score_sub1, _, _, _, _ = TrainML_Sub1(rf_model, X_sub1, y_sub1, test_sub1)\n",
    "# submission1, val_score_sub1, _, _, _, _ = TrainML_Pip2(catboost_model, X_sub1, y_sub1, test_sub1)\n",
    "# submission1, val_score_sub1, _, _, _, _ = TrainML_Pip3(catboost_model, X_sub1, y_sub1, test_sub1)\n",
    "# submission1, val_score_sub1, _, _, _, _ = TrainML_Pip4(catboost_model, X_sub1, y_sub1, test_sub1)\n",
    "# submission1, val_score_sub1, _, _, _, _ = TrainML_Pip5(final_voting_model, X_sub1, y_sub1, test_sub1)\n",
    "submission1, val_score_sub1, _, _, _, _ = TrainML_Pip6(lightgbm_model, X_sub1, y_sub1, test_sub1)\n",
    "\n",
    "print(\"Val score sub1 with best parameters:\", val_score_sub1)"
   ]
  },
  {
   "cell_type": "markdown",
   "id": "1ff068f3",
   "metadata": {
    "papermill": {
     "duration": 0.004855,
     "end_time": "2024-12-23T12:53:09.548759",
     "exception": false,
     "start_time": "2024-12-23T12:53:09.543904",
     "status": "completed"
    },
    "tags": []
   },
   "source": [
    "# Final"
   ]
  },
  {
   "cell_type": "code",
   "execution_count": 18,
   "id": "7233f140",
   "metadata": {
    "execution": {
     "iopub.execute_input": "2024-12-23T12:53:09.559487Z",
     "iopub.status.busy": "2024-12-23T12:53:09.559254Z",
     "iopub.status.idle": "2024-12-23T12:53:09.565281Z",
     "shell.execute_reply": "2024-12-23T12:53:09.564579Z"
    },
    "papermill": {
     "duration": 0.012785,
     "end_time": "2024-12-23T12:53:09.566466",
     "exception": false,
     "start_time": "2024-12-23T12:53:09.553681",
     "status": "completed"
    },
    "tags": []
   },
   "outputs": [
    {
     "name": "stdout",
     "output_type": "stream",
     "text": [
      "Submission saved to 'submission.csv'\n"
     ]
    }
   ],
   "source": [
    "final_submission = submission1\n",
    "final_submission.to_csv('submission.csv', index=False)\n",
    "\n",
    "print(\"Submission saved to 'submission.csv'\")"
   ]
  },
  {
   "cell_type": "code",
   "execution_count": 19,
   "id": "14077839",
   "metadata": {
    "execution": {
     "iopub.execute_input": "2024-12-23T12:53:09.577258Z",
     "iopub.status.busy": "2024-12-23T12:53:09.577025Z",
     "iopub.status.idle": "2024-12-23T12:53:09.586753Z",
     "shell.execute_reply": "2024-12-23T12:53:09.586050Z"
    },
    "papermill": {
     "duration": 0.016438,
     "end_time": "2024-12-23T12:53:09.588001",
     "exception": false,
     "start_time": "2024-12-23T12:53:09.571563",
     "status": "completed"
    },
    "tags": []
   },
   "outputs": [
    {
     "data": {
      "text/html": [
       "<div>\n",
       "<style scoped>\n",
       "    .dataframe tbody tr th:only-of-type {\n",
       "        vertical-align: middle;\n",
       "    }\n",
       "\n",
       "    .dataframe tbody tr th {\n",
       "        vertical-align: top;\n",
       "    }\n",
       "\n",
       "    .dataframe thead th {\n",
       "        text-align: right;\n",
       "    }\n",
       "</style>\n",
       "<table border=\"1\" class=\"dataframe\">\n",
       "  <thead>\n",
       "    <tr style=\"text-align: right;\">\n",
       "      <th></th>\n",
       "      <th>id</th>\n",
       "      <th>sii</th>\n",
       "    </tr>\n",
       "  </thead>\n",
       "  <tbody>\n",
       "    <tr>\n",
       "      <th>0</th>\n",
       "      <td>00008ff9</td>\n",
       "      <td>0</td>\n",
       "    </tr>\n",
       "    <tr>\n",
       "      <th>1</th>\n",
       "      <td>000fd460</td>\n",
       "      <td>0</td>\n",
       "    </tr>\n",
       "    <tr>\n",
       "      <th>2</th>\n",
       "      <td>00105258</td>\n",
       "      <td>0</td>\n",
       "    </tr>\n",
       "    <tr>\n",
       "      <th>3</th>\n",
       "      <td>00115b9f</td>\n",
       "      <td>0</td>\n",
       "    </tr>\n",
       "    <tr>\n",
       "      <th>4</th>\n",
       "      <td>0016bb22</td>\n",
       "      <td>1</td>\n",
       "    </tr>\n",
       "    <tr>\n",
       "      <th>5</th>\n",
       "      <td>001f3379</td>\n",
       "      <td>1</td>\n",
       "    </tr>\n",
       "    <tr>\n",
       "      <th>6</th>\n",
       "      <td>0038ba98</td>\n",
       "      <td>1</td>\n",
       "    </tr>\n",
       "    <tr>\n",
       "      <th>7</th>\n",
       "      <td>0068a485</td>\n",
       "      <td>0</td>\n",
       "    </tr>\n",
       "    <tr>\n",
       "      <th>8</th>\n",
       "      <td>0069fbed</td>\n",
       "      <td>2</td>\n",
       "    </tr>\n",
       "    <tr>\n",
       "      <th>9</th>\n",
       "      <td>0083e397</td>\n",
       "      <td>1</td>\n",
       "    </tr>\n",
       "    <tr>\n",
       "      <th>10</th>\n",
       "      <td>0087dd65</td>\n",
       "      <td>1</td>\n",
       "    </tr>\n",
       "    <tr>\n",
       "      <th>11</th>\n",
       "      <td>00abe655</td>\n",
       "      <td>0</td>\n",
       "    </tr>\n",
       "    <tr>\n",
       "      <th>12</th>\n",
       "      <td>00ae59c9</td>\n",
       "      <td>1</td>\n",
       "    </tr>\n",
       "    <tr>\n",
       "      <th>13</th>\n",
       "      <td>00af6387</td>\n",
       "      <td>2</td>\n",
       "    </tr>\n",
       "    <tr>\n",
       "      <th>14</th>\n",
       "      <td>00bd4359</td>\n",
       "      <td>2</td>\n",
       "    </tr>\n",
       "    <tr>\n",
       "      <th>15</th>\n",
       "      <td>00c0cd71</td>\n",
       "      <td>0</td>\n",
       "    </tr>\n",
       "    <tr>\n",
       "      <th>16</th>\n",
       "      <td>00d56d4b</td>\n",
       "      <td>0</td>\n",
       "    </tr>\n",
       "    <tr>\n",
       "      <th>17</th>\n",
       "      <td>00d9913d</td>\n",
       "      <td>0</td>\n",
       "    </tr>\n",
       "    <tr>\n",
       "      <th>18</th>\n",
       "      <td>00e6167c</td>\n",
       "      <td>0</td>\n",
       "    </tr>\n",
       "    <tr>\n",
       "      <th>19</th>\n",
       "      <td>00ebc35d</td>\n",
       "      <td>1</td>\n",
       "    </tr>\n",
       "  </tbody>\n",
       "</table>\n",
       "</div>"
      ],
      "text/plain": [
       "          id  sii\n",
       "0   00008ff9    0\n",
       "1   000fd460    0\n",
       "2   00105258    0\n",
       "3   00115b9f    0\n",
       "4   0016bb22    1\n",
       "5   001f3379    1\n",
       "6   0038ba98    1\n",
       "7   0068a485    0\n",
       "8   0069fbed    2\n",
       "9   0083e397    1\n",
       "10  0087dd65    1\n",
       "11  00abe655    0\n",
       "12  00ae59c9    1\n",
       "13  00af6387    2\n",
       "14  00bd4359    2\n",
       "15  00c0cd71    0\n",
       "16  00d56d4b    0\n",
       "17  00d9913d    0\n",
       "18  00e6167c    0\n",
       "19  00ebc35d    1"
      ]
     },
     "execution_count": 19,
     "metadata": {},
     "output_type": "execute_result"
    }
   ],
   "source": [
    "final_submission"
   ]
  },
  {
   "cell_type": "code",
   "execution_count": null,
   "id": "7f2d36cc",
   "metadata": {
    "papermill": {
     "duration": 0.005122,
     "end_time": "2024-12-23T12:53:09.598483",
     "exception": false,
     "start_time": "2024-12-23T12:53:09.593361",
     "status": "completed"
    },
    "tags": []
   },
   "outputs": [],
   "source": []
  }
 ],
 "metadata": {
  "kaggle": {
   "accelerator": "gpu",
   "dataSources": [
    {
     "databundleVersionId": 9643020,
     "sourceId": 81933,
     "sourceType": "competition"
    }
   ],
   "dockerImageVersionId": 30823,
   "isGpuEnabled": true,
   "isInternetEnabled": false,
   "language": "python",
   "sourceType": "notebook"
  },
  "kernelspec": {
   "display_name": "Python 3",
   "language": "python",
   "name": "python3"
  },
  "language_info": {
   "codemirror_mode": {
    "name": "ipython",
    "version": 3
   },
   "file_extension": ".py",
   "mimetype": "text/x-python",
   "name": "python",
   "nbconvert_exporter": "python",
   "pygments_lexer": "ipython3",
   "version": "3.10.12"
  },
  "papermill": {
   "default_parameters": {},
   "duration": 18.345395,
   "end_time": "2024-12-23T12:53:11.023949",
   "environment_variables": {},
   "exception": null,
   "input_path": "__notebook__.ipynb",
   "output_path": "__notebook__.ipynb",
   "parameters": {},
   "start_time": "2024-12-23T12:52:52.678554",
   "version": "2.6.0"
  }
 },
 "nbformat": 4,
 "nbformat_minor": 5
}
