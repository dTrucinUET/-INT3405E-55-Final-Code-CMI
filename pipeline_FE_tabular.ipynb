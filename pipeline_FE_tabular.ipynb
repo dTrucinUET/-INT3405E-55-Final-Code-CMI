{
 "cells": [
  {
   "cell_type": "code",
   "execution_count": 58,
   "id": "c9be669f",
   "metadata": {
    "_cell_guid": "b1076dfc-b9ad-4769-8c92-a6c4dae69d19",
    "_uuid": "8f2839f25d086af736a60e9eeb907d3b93b6e0e5",
    "execution": {
     "iopub.execute_input": "2024-12-23T08:57:24.566043Z",
     "iopub.status.busy": "2024-12-23T08:57:24.565698Z",
     "iopub.status.idle": "2024-12-23T08:57:24.571657Z",
     "shell.execute_reply": "2024-12-23T08:57:24.570937Z",
     "shell.execute_reply.started": "2024-12-23T08:57:24.566018Z"
    },
    "papermill": {
     "duration": 28.666008,
     "end_time": "2024-12-20T05:16:10.862394",
     "exception": false,
     "start_time": "2024-12-20T05:15:42.196386",
     "status": "completed"
    },
    "tags": [],
    "trusted": true
   },
   "outputs": [],
   "source": [
    "import numpy as np\n",
    "import pandas as pd\n",
    "import os\n",
    "import copy\n",
    "from sklearn.base import clone\n",
    "from sklearn.metrics import cohen_kappa_score\n",
    "from sklearn.model_selection import StratifiedKFold\n",
    "from scipy.optimize import minimize\n",
    "from tqdm import tqdm\n",
    "\n",
    "import torch.nn as nn\n",
    "import torch.optim as optim\n",
    "\n",
    "from colorama import Fore, Style\n",
    "from IPython.display import clear_output\n",
    "import warnings\n",
    "from lightgbm import LGBMRegressor\n",
    "from xgboost import XGBRegressor\n",
    "from catboost import CatBoostRegressor\n",
    "from sklearn.svm import SVR\n",
    "\n",
    "from sklearn.ensemble import VotingRegressor\n",
    "from sklearn.impute import SimpleImputer\n",
    "from sklearn.pipeline import Pipeline\n",
    "\n",
    "import random\n",
    "import torch\n",
    "\n",
    "warnings.filterwarnings('ignore')\n",
    "pd.options.display.max_columns = None\n"
   ]
  },
  {
   "cell_type": "code",
   "execution_count": 59,
   "id": "989a74dd",
   "metadata": {
    "execution": {
     "iopub.execute_input": "2024-12-23T08:57:24.573113Z",
     "iopub.status.busy": "2024-12-23T08:57:24.572815Z",
     "iopub.status.idle": "2024-12-23T08:57:24.595407Z",
     "shell.execute_reply": "2024-12-23T08:57:24.594770Z",
     "shell.execute_reply.started": "2024-12-23T08:57:24.573083Z"
    },
    "papermill": {
     "duration": 0.033062,
     "end_time": "2024-12-20T05:16:10.910647",
     "exception": false,
     "start_time": "2024-12-20T05:16:10.877585",
     "status": "completed"
    },
    "tags": [],
    "trusted": true
   },
   "outputs": [],
   "source": [
    "def seed_everything(seed):\n",
    "    random.seed(seed)\n",
    "    os.environ['PYTHONHASHSEED'] = str(seed)\n",
    "    np.random.seed(seed)\n",
    "    torch.manual_seed(seed)\n",
    "    torch.cuda.manual_seed(seed)\n",
    "    torch.backends.cudnn.deterministic = True\n",
    "    torch.backends.cudnn.benchmark = True\n",
    "\n",
    "SEED = 42\n",
    "n_splits = 5\n",
    "seed_everything(SEED)"
   ]
  },
  {
   "cell_type": "markdown",
   "id": "ac0aea8e",
   "metadata": {
    "papermill": {
     "duration": 0.013957,
     "end_time": "2024-12-20T05:16:10.939388",
     "exception": false,
     "start_time": "2024-12-20T05:16:10.925431",
     "status": "completed"
    },
    "tags": []
   },
   "source": [
    "# Define function"
   ]
  },
  {
   "cell_type": "markdown",
   "id": "ace1f3f1",
   "metadata": {
    "papermill": {
     "duration": 0.012622,
     "end_time": "2024-12-20T05:16:10.964263",
     "exception": false,
     "start_time": "2024-12-20T05:16:10.951641",
     "status": "completed"
    },
    "tags": []
   },
   "source": [
    "## Feature engineer for tabular data"
   ]
  },
  {
   "cell_type": "code",
   "execution_count": 60,
   "id": "4b015a05",
   "metadata": {
    "execution": {
     "iopub.execute_input": "2024-12-23T08:57:24.596903Z",
     "iopub.status.busy": "2024-12-23T08:57:24.596703Z",
     "iopub.status.idle": "2024-12-23T08:57:24.610111Z",
     "shell.execute_reply": "2024-12-23T08:57:24.609403Z",
     "shell.execute_reply.started": "2024-12-23T08:57:24.596885Z"
    },
    "papermill": {
     "duration": 0.053105,
     "end_time": "2024-12-20T05:16:11.031891",
     "exception": false,
     "start_time": "2024-12-20T05:16:10.978786",
     "status": "completed"
    },
    "tags": [],
    "trusted": true
   },
   "outputs": [],
   "source": [
    "from sklearn.feature_selection import SelectKBest, f_regression\n",
    "\n",
    "def feature_engineering_v2(df, selector=None, imputer=None, fit=True):\n",
    "    df = df.loc[:, ~df.columns.duplicated()]\n",
    "    if fit: \n",
    "        y = df['sii']\n",
    "\n",
    "    numeric_cols = df.select_dtypes(include=['float64', 'int64']).columns\n",
    "    season_cols = [col for col in df.columns if 'Season' in col]\n",
    "    pciat_cols = [col for col in df.columns if 'PCIAT' in col and 'Season' not in col]\n",
    "    remaining_numeric_cols = [col for col in numeric_cols if col not in pciat_cols and col not in ['sii']]\n",
    "    X = df[remaining_numeric_cols]\n",
    "    print(X.keys())\n",
    "    if np.any(np.isinf(X)):\n",
    "        X = X.replace([np.inf, -np.inf], np.nan)\n",
    "    if fit: \n",
    "        imputer = SimpleImputer()\n",
    "        imputed_data = imputer.fit_transform(X)\n",
    "        train_imputed = pd.DataFrame(imputed_data, columns=remaining_numeric_cols)\n",
    "        X = train_imputed\n",
    "    else:\n",
    "        X = imputer.transform(X)\n",
    "\n",
    "    if fit:\n",
    "        selector = SelectKBest(score_func=f_regression, k=30)\n",
    "        X_new = selector.fit_transform(X, y)\n",
    "        selected_features = X.columns[selector.get_support()]\n",
    "    else: \n",
    "        X_new = selector.transform(X)\n",
    "        selected_features = [col for col, selected in zip(remaining_numeric_cols, selector.get_support()) if selected]\n",
    "    df_selected = pd.DataFrame(X_new, columns=selected_features)\n",
    "    print(df_selected.keys())\n",
    "    return df_selected, selector, imputer\n",
    "\n",
    "def feature_engineering_tabular(df):\n",
    "    season_cols = [col for col in df.columns if 'Season' in col]\n",
    "    df = df.drop(season_cols, axis=1) \n",
    "    df['BMI_Age'] = df['Physical-BMI'] * df['Basic_Demos-Age']\n",
    "    df['Internet_Hours_Age'] = df['PreInt_EduHx-computerinternet_hoursday'] * df['Basic_Demos-Age']\n",
    "    df['BMI_Internet_Hours'] = df['Physical-BMI'] * df['PreInt_EduHx-computerinternet_hoursday']\n",
    "    df['BFP_BMI'] = df['BIA-BIA_Fat'] / df['BIA-BIA_BMI']\n",
    "    df['FFMI_BFP'] = df['BIA-BIA_FFMI'] / df['BIA-BIA_Fat']\n",
    "    df['FMI_BFP'] = df['BIA-BIA_FMI'] / df['BIA-BIA_Fat']\n",
    "    df['LST_TBW'] = df['BIA-BIA_LST'] / df['BIA-BIA_TBW']\n",
    "    df['BFP_BMR'] = df['BIA-BIA_Fat'] * df['BIA-BIA_BMR']\n",
    "    df['BFP_DEE'] = df['BIA-BIA_Fat'] * df['BIA-BIA_DEE']\n",
    "    df['BMR_Weight'] = df['BIA-BIA_BMR'] / df['Physical-Weight']\n",
    "    df['DEE_Weight'] = df['BIA-BIA_DEE'] / df['Physical-Weight']\n",
    "    df['SMM_Height'] = df['BIA-BIA_SMM'] / df['Physical-Height']\n",
    "    df['Muscle_to_Fat'] = df['BIA-BIA_SMM'] / df['BIA-BIA_FMI']\n",
    "    df['Hydration_Status'] = df['BIA-BIA_TBW'] / df['Physical-Weight']\n",
    "    df['ICW_TBW'] = df['BIA-BIA_ICW'] / df['BIA-BIA_TBW']\n",
    "    df['BMI_PHR'] = df['Physical-BMI'] * df['Physical-HeartRate']\n",
    "    \n",
    "    return df"
   ]
  },
  {
   "cell_type": "markdown",
   "id": "81c1d51c",
   "metadata": {
    "papermill": {
     "duration": 0.014922,
     "end_time": "2024-12-20T05:16:11.133450",
     "exception": false,
     "start_time": "2024-12-20T05:16:11.118528",
     "status": "completed"
    },
    "tags": []
   },
   "source": [
    "## Utils functions"
   ]
  },
  {
   "cell_type": "code",
   "execution_count": 61,
   "id": "82347752",
   "metadata": {
    "execution": {
     "iopub.execute_input": "2024-12-23T08:57:24.610937Z",
     "iopub.status.busy": "2024-12-23T08:57:24.610759Z",
     "iopub.status.idle": "2024-12-23T08:57:24.628878Z",
     "shell.execute_reply": "2024-12-23T08:57:24.628169Z",
     "shell.execute_reply.started": "2024-12-23T08:57:24.610921Z"
    },
    "papermill": {
     "duration": 0.037991,
     "end_time": "2024-12-20T05:16:11.184966",
     "exception": false,
     "start_time": "2024-12-20T05:16:11.146975",
     "status": "completed"
    },
    "tags": [],
    "trusted": true
   },
   "outputs": [],
   "source": [
    "# Handle non-numeric columns\n",
    "def update(df):\n",
    "    global cat_c\n",
    "    for c in cat_c: \n",
    "        df[c] = df[c].fillna('Missing')\n",
    "        df[c] = df[c].astype('category')\n",
    "    return df\n",
    "\n",
    "def create_mapping(column, dataset):\n",
    "    unique_values = dataset[column].unique()\n",
    "    return {value: idx for idx, value in enumerate(unique_values)}\n",
    "\n",
    "\n",
    "# Function to evaluate the predictions and optimize the thresholds\n",
    "def quadratic_weighted_kappa(y_true, y_pred):\n",
    "    return cohen_kappa_score(y_true, y_pred, weights='quadratic')\n",
    "\n",
    "def threshold_Rounder(oof_non_rounded, thresholds):\n",
    "    return np.where(oof_non_rounded < thresholds[0], 0,\n",
    "                    np.where(oof_non_rounded < thresholds[1], 1,\n",
    "                             np.where(oof_non_rounded < thresholds[2], 2, 3)))\n",
    "\n",
    "def evaluate_predictions(thresholds, y_true, oof_non_rounded):\n",
    "    rounded_p = threshold_Rounder(oof_non_rounded, thresholds)\n",
    "    return -quadratic_weighted_kappa(y_true, rounded_p)"
   ]
  },
  {
   "cell_type": "markdown",
   "id": "74bec91c",
   "metadata": {},
   "source": [
    "## Function to train the model with tabular data processed by SelectKBest"
   ]
  },
  {
   "cell_type": "code",
   "execution_count": 62,
   "id": "d79ed762",
   "metadata": {
    "execution": {
     "iopub.execute_input": "2024-12-23T08:57:24.682515Z",
     "iopub.status.busy": "2024-12-23T08:57:24.682188Z",
     "iopub.status.idle": "2024-12-23T08:57:24.692234Z",
     "shell.execute_reply": "2024-12-23T08:57:24.691326Z",
     "shell.execute_reply.started": "2024-12-23T08:57:24.682483Z"
    },
    "papermill": {
     "duration": 0.04116,
     "end_time": "2024-12-20T05:16:11.240983",
     "exception": false,
     "start_time": "2024-12-20T05:16:11.199823",
     "status": "completed"
    },
    "tags": [],
    "trusted": true
   },
   "outputs": [],
   "source": [
    "def TrainML_Sub1(model_class, X, y, test_data):\n",
    "    SKF = StratifiedKFold(n_splits=n_splits, shuffle=True, random_state=SEED)\n",
    "    \n",
    "    train_S = []\n",
    "    test_S = []\n",
    "    \n",
    "    oof_non_rounded = np.zeros(len(y), dtype=float) \n",
    "    oof_rounded = np.zeros(len(y), dtype=int) \n",
    "    test_preds = np.zeros((len(test_data), n_splits))\n",
    "\n",
    "    for fold, (train_idx, test_idx) in enumerate(tqdm(SKF.split(X, y), desc=\"Training Folds\", total=n_splits)):\n",
    "        X_train, X_val = X.iloc[train_idx], X.iloc[test_idx]\n",
    "        y_train, y_val = y.iloc[train_idx], y.iloc[test_idx]\n",
    "        \n",
    "        X_train, selector_tr, imputer_tr = feature_engineering_v2(X_train, fit=True)\n",
    "        X_val, _, _ = feature_engineering_v2(X_val, selector_tr, imputer_tr, fit=False)\n",
    "        # Train the model\n",
    "        model = clone(model_class)\n",
    "        model.fit(X_train, y_train)\n",
    "\n",
    "        y_train_pred = model.predict(X_train)\n",
    "        y_val_pred = model.predict(X_val)\n",
    "\n",
    "        oof_non_rounded[test_idx] = y_val_pred\n",
    "        y_val_pred_rounded = y_val_pred.round(0).astype(int)\n",
    "        oof_rounded[test_idx] = y_val_pred_rounded\n",
    "\n",
    "        train_kappa = quadratic_weighted_kappa(y_train, y_train_pred.round(0).astype(int))\n",
    "        val_kappa = quadratic_weighted_kappa(y_val, y_val_pred_rounded)\n",
    "\n",
    "        train_S.append(train_kappa)\n",
    "        test_S.append(val_kappa)\n",
    "        \n",
    "        # Feature engineering for test data\n",
    "        test_data_fe, _, _ = feature_engineering_v2(test_data, selector_tr, imputer_tr, fit=False)\n",
    "        test_preds[:, fold] = model.predict(test_data_fe)\n",
    "        \n",
    "        print(f\"Fold {fold+1} - Train QWK: {train_kappa:.4f}, Validation QWK: {val_kappa:.4f}\")\n",
    "        clear_output(wait=True)\n",
    "    \n",
    "    print(f\"Mean Train QWK --> {np.mean(train_S):.4f}\")\n",
    "    print(f\"Mean Validation QWK ---> {np.mean(test_S):.4f}\")\n",
    "\n",
    "    KappaOptimizer = minimize(evaluate_predictions,\n",
    "                              x0=[0.5, 1.5, 2.5], args=(y, oof_non_rounded), \n",
    "                              method='Nelder-Mead')\n",
    "    assert KappaOptimizer.success, \"Optimization did not converge.\"\n",
    "    print('OPTIMIZED THRESHOLDS', KappaOptimizer.x)\n",
    "    \n",
    "    oof_tuned = threshold_Rounder(oof_non_rounded, KappaOptimizer.x)\n",
    "    tKappa = quadratic_weighted_kappa(y, oof_tuned)\n",
    "\n",
    "    print(f\"----> || Optimized QWK SCORE :: {Fore.CYAN}{Style.BRIGHT} {tKappa:.3f}{Style.RESET_ALL}\")\n",
    "\n",
    "    tpm = test_preds.mean(axis=1)\n",
    "    tpTuned = threshold_Rounder(tpm, KappaOptimizer.x)\n",
    "    \n",
    "    submission = pd.DataFrame({\n",
    "        'id': sample['id'],\n",
    "        'sii': tpTuned\n",
    "    })\n",
    "    optimized_thresholds = KappaOptimizer.x\n",
    "    return (submission, tKappa, oof_tuned, oof_non_rounded, y, optimized_thresholds)"
   ]
  },
  {
   "cell_type": "markdown",
   "id": "6a9983c7",
   "metadata": {},
   "source": [
    "## Function to train the model with tabular data processed by FENet"
   ]
  },
  {
   "cell_type": "code",
   "execution_count": 63,
   "id": "811281ba",
   "metadata": {
    "execution": {
     "iopub.execute_input": "2024-12-23T08:57:24.693697Z",
     "iopub.status.busy": "2024-12-23T08:57:24.693380Z",
     "iopub.status.idle": "2024-12-23T08:57:24.711063Z",
     "shell.execute_reply": "2024-12-23T08:57:24.710215Z",
     "shell.execute_reply.started": "2024-12-23T08:57:24.693667Z"
    },
    "trusted": true
   },
   "outputs": [],
   "source": [
    "def TrainML(model_class, X, y, test_data):\n",
    "    SKF = StratifiedKFold(n_splits=n_splits, shuffle=True, random_state=SEED)\n",
    "    \n",
    "    train_S = []\n",
    "    test_S = []\n",
    "    \n",
    "    oof_non_rounded = np.zeros(len(y), dtype=float) \n",
    "    oof_rounded = np.zeros(len(y), dtype=int) \n",
    "    test_preds = np.zeros((len(test_data), n_splits))\n",
    "\n",
    "    for fold, (train_idx, test_idx) in enumerate(tqdm(SKF.split(X, y), desc=\"Training Folds\", total=n_splits)):\n",
    "        X_train, X_val = X.iloc[train_idx], X.iloc[test_idx]\n",
    "        y_train, y_val = y.iloc[train_idx], y.iloc[test_idx]\n",
    "        model = clone(model_class)\n",
    "        model.fit(X_train, y_train)\n",
    "\n",
    "        y_train_pred = model.predict(X_train)\n",
    "        y_val_pred = model.predict(X_val)\n",
    "\n",
    "        oof_non_rounded[test_idx] = y_val_pred\n",
    "        y_val_pred_rounded = y_val_pred.round(0).astype(int)\n",
    "        oof_rounded[test_idx] = y_val_pred_rounded\n",
    "\n",
    "        train_kappa = quadratic_weighted_kappa(y_train, y_train_pred.round(0).astype(int))\n",
    "        val_kappa = quadratic_weighted_kappa(y_val, y_val_pred_rounded)\n",
    "\n",
    "        train_S.append(train_kappa)\n",
    "        test_S.append(val_kappa)\n",
    "        \n",
    "        test_preds[:, fold] = model.predict(test_data)\n",
    "        \n",
    "        print(f\"Fold {fold+1} - Train QWK: {train_kappa:.4f}, Validation QWK: {val_kappa:.4f}\")\n",
    "        clear_output(wait=True)\n",
    "    print(f\"Mean Train QWK --> {np.mean(train_S):.4f}\")\n",
    "    print(f\"Mean Validation QWK ---> {np.mean(test_S):.4f}\")\n",
    "\n",
    "    KappaOPtimizer = minimize(evaluate_predictions,\n",
    "                              x0=[0.5, 1.5, 2.5], args=(y, oof_non_rounded), \n",
    "                              method='Nelder-Mead')\n",
    "    assert KappaOPtimizer.success, \"Optimization did not converge.\"\n",
    "    print('OPTIMIZED THRESHOLDS', KappaOPtimizer.x)\n",
    "    oof_tuned = threshold_Rounder(oof_non_rounded, KappaOPtimizer.x)\n",
    "    tKappa = quadratic_weighted_kappa(y, oof_tuned)\n",
    "\n",
    "    print(f\"----> || Optimized QWK SCORE :: {Fore.CYAN}{Style.BRIGHT} {tKappa:.3f}{Style.RESET_ALL}\")\n",
    "\n",
    "    tpm = test_preds.mean(axis=1)\n",
    "    tpTuned = threshold_Rounder(tpm, KappaOPtimizer.x)\n",
    "    \n",
    "    submission = pd.DataFrame({\n",
    "        'id': sample['id'],\n",
    "        'sii': tpTuned\n",
    "    })\n",
    "    optimized_thresholds = KappaOPtimizer.x\n",
    "    return submission, oof_tuned, oof_non_rounded, y, optimized_thresholds"
   ]
  },
  {
   "cell_type": "markdown",
   "id": "7eef9d3d",
   "metadata": {
    "papermill": {
     "duration": 0.011776,
     "end_time": "2024-12-20T05:16:16.544477",
     "exception": false,
     "start_time": "2024-12-20T05:16:16.532701",
     "status": "completed"
    },
    "tags": []
   },
   "source": [
    "# Define features"
   ]
  },
  {
   "cell_type": "markdown",
   "id": "3ff70a8e",
   "metadata": {
    "papermill": {
     "duration": 0.01166,
     "end_time": "2024-12-20T05:16:16.567941",
     "exception": false,
     "start_time": "2024-12-20T05:16:16.556281",
     "status": "completed"
    },
    "tags": []
   },
   "source": [
    "## Normal features"
   ]
  },
  {
   "cell_type": "code",
   "execution_count": 64,
   "id": "1f5c6508",
   "metadata": {
    "execution": {
     "iopub.execute_input": "2024-12-23T08:57:24.712921Z",
     "iopub.status.busy": "2024-12-23T08:57:24.712713Z",
     "iopub.status.idle": "2024-12-23T08:57:24.770080Z",
     "shell.execute_reply": "2024-12-23T08:57:24.769183Z",
     "shell.execute_reply.started": "2024-12-23T08:57:24.712894Z"
    },
    "papermill": {
     "duration": 0.115138,
     "end_time": "2024-12-20T05:16:16.695141",
     "exception": false,
     "start_time": "2024-12-20T05:16:16.580003",
     "status": "completed"
    },
    "tags": [],
    "trusted": true
   },
   "outputs": [],
   "source": [
    "train = pd.read_csv('/kaggle/input/child-mind-institute-problematic-internet-use/train.csv')\n",
    "test = pd.read_csv('/kaggle/input/child-mind-institute-problematic-internet-use/test.csv')\n",
    "sample = pd.read_csv('/kaggle/input/child-mind-institute-problematic-internet-use/sample_submission.csv')\n",
    "\n",
    "total_features = list(test.columns)\n",
    "total_features.remove('id')\n",
    "\n",
    "cat_c = ['Basic_Demos-Enroll_Season', 'CGAS-Season', 'Physical-Season', \n",
    "          'Fitness_Endurance-Season', 'FGC-Season', 'BIA-Season', \n",
    "          'PAQ_A-Season', 'PAQ_C-Season', 'SDS-Season', 'PreInt_EduHx-Season']"
   ]
  },
  {
   "cell_type": "code",
   "execution_count": 65,
   "id": "2c149383",
   "metadata": {
    "execution": {
     "iopub.execute_input": "2024-12-23T08:57:24.771735Z",
     "iopub.status.busy": "2024-12-23T08:57:24.771506Z",
     "iopub.status.idle": "2024-12-23T08:57:24.776133Z",
     "shell.execute_reply": "2024-12-23T08:57:24.775292Z",
     "shell.execute_reply.started": "2024-12-23T08:57:24.771716Z"
    },
    "papermill": {
     "duration": 0.026358,
     "end_time": "2024-12-20T05:16:16.734032",
     "exception": false,
     "start_time": "2024-12-20T05:16:16.707674",
     "status": "completed"
    },
    "tags": [],
    "trusted": true
   },
   "outputs": [],
   "source": [
    "noseason_features = ['Basic_Demos-Age', 'Basic_Demos-Sex',\n",
    "                'CGAS-CGAS_Score', 'Physical-BMI',\n",
    "                'Physical-Height', 'Physical-Weight', 'Physical-Waist_Circumference',\n",
    "                'Physical-Diastolic_BP', 'Physical-HeartRate', 'Physical-Systolic_BP',\n",
    "                'Fitness_Endurance-Max_Stage',\n",
    "                'Fitness_Endurance-Time_Mins', 'Fitness_Endurance-Time_Sec',\n",
    "                'FGC-FGC_CU', 'FGC-FGC_CU_Zone', 'FGC-FGC_GSND',\n",
    "                'FGC-FGC_GSND_Zone', 'FGC-FGC_GSD', 'FGC-FGC_GSD_Zone', 'FGC-FGC_PU',\n",
    "                'FGC-FGC_PU_Zone', 'FGC-FGC_SRL', 'FGC-FGC_SRL_Zone', 'FGC-FGC_SRR',\n",
    "                'FGC-FGC_SRR_Zone', 'FGC-FGC_TL', 'FGC-FGC_TL_Zone',\n",
    "                'BIA-BIA_Activity_Level_num', 'BIA-BIA_BMC', 'BIA-BIA_BMI',\n",
    "                'BIA-BIA_BMR', 'BIA-BIA_DEE', 'BIA-BIA_ECW', 'BIA-BIA_FFM',\n",
    "                'BIA-BIA_FFMI', 'BIA-BIA_FMI', 'BIA-BIA_Fat', 'BIA-BIA_Frame_num',\n",
    "                'BIA-BIA_ICW', 'BIA-BIA_LDM', 'BIA-BIA_LST', 'BIA-BIA_SMM',\n",
    "                'BIA-BIA_TBW', 'PAQ_A-PAQ_A_Total',\n",
    "                'PAQ_C-PAQ_C_Total', 'SDS-SDS_Total_Raw',\n",
    "                'SDS-SDS_Total_T',\n",
    "                'PreInt_EduHx-computerinternet_hoursday', 'BMI_Age','Internet_Hours_Age','BMI_Internet_Hours',\n",
    "                'BFP_BMI', 'FFMI_BFP', 'FMI_BFP', 'LST_TBW', 'BFP_BMR', 'BFP_DEE', 'BMR_Weight', 'DEE_Weight',\n",
    "                'SMM_Height', 'Muscle_to_Fat', 'Hydration_Status', 'ICW_TBW','BMI_PHR']"
   ]
  },
  {
   "cell_type": "markdown",
   "id": "eb9520b8",
   "metadata": {
    "papermill": {
     "duration": 0.03445,
     "end_time": "2024-12-20T05:18:09.181114",
     "exception": false,
     "start_time": "2024-12-20T05:18:09.146664",
     "status": "completed"
    },
    "tags": []
   },
   "source": [
    "# Submission "
   ]
  },
  {
   "cell_type": "code",
   "execution_count": 66,
   "id": "2a83cca3",
   "metadata": {
    "execution": {
     "iopub.execute_input": "2024-12-23T08:57:24.777290Z",
     "iopub.status.busy": "2024-12-23T08:57:24.777015Z",
     "iopub.status.idle": "2024-12-23T08:57:24.796407Z",
     "shell.execute_reply": "2024-12-23T08:57:24.795610Z",
     "shell.execute_reply.started": "2024-12-23T08:57:24.777269Z"
    },
    "papermill": {
     "duration": 0.092286,
     "end_time": "2024-12-20T05:18:55.198157",
     "exception": false,
     "start_time": "2024-12-20T05:18:55.105871",
     "status": "completed"
    },
    "tags": [],
    "trusted": true
   },
   "outputs": [],
   "source": [
    "train_sub1 = train\n",
    "test_sub1 = test\n",
    "train_sub1 = train_sub1.dropna(subset='sii')"
   ]
  },
  {
   "cell_type": "code",
   "execution_count": 67,
   "id": "11d6031e",
   "metadata": {
    "execution": {
     "iopub.execute_input": "2024-12-23T08:57:24.797348Z",
     "iopub.status.busy": "2024-12-23T08:57:24.797111Z",
     "iopub.status.idle": "2024-12-23T08:57:24.812066Z",
     "shell.execute_reply": "2024-12-23T08:57:24.811398Z",
     "shell.execute_reply.started": "2024-12-23T08:57:24.797327Z"
    },
    "papermill": {
     "duration": 0.043062,
     "end_time": "2024-12-20T05:18:55.283805",
     "exception": false,
     "start_time": "2024-12-20T05:18:55.240743",
     "status": "completed"
    },
    "tags": [],
    "trusted": true
   },
   "outputs": [],
   "source": [
    "X_sub1 = train_sub1\n",
    "y_sub1 = train_sub1['sii']"
   ]
  },
  {
   "cell_type": "code",
   "execution_count": 68,
   "id": "b1b183e9",
   "metadata": {
    "execution": {
     "iopub.execute_input": "2024-12-23T08:57:24.813185Z",
     "iopub.status.busy": "2024-12-23T08:57:24.812890Z",
     "iopub.status.idle": "2024-12-23T08:57:24.829078Z",
     "shell.execute_reply": "2024-12-23T08:57:24.828489Z",
     "shell.execute_reply.started": "2024-12-23T08:57:24.813158Z"
    },
    "papermill": {
     "duration": 0.059988,
     "end_time": "2024-12-20T05:19:38.532381",
     "exception": false,
     "start_time": "2024-12-20T05:19:38.472393",
     "status": "completed"
    },
    "tags": [],
    "trusted": true
   },
   "outputs": [],
   "source": [
    "SVR_Best_Params = {\n",
    "    'C': 0.1,\n",
    "    'epsilon': 0.1,\n",
    "    'kernel': 'rbf',\n",
    "    'gamma': 'scale',\n",
    "}\n",
    "\n",
    "CatBoost_Best_Params = {\n",
    "    'learning_rate': 0.0021172579310639343,\n",
    "    'depth': 6,\n",
    "    'iterations': 130,\n",
    "    'random_seed': SEED,\n",
    "    'verbose': 0,\n",
    "    'l2_leaf_reg': 0.32557701990001503,\n",
    "    'task_type': 'GPU',  \n",
    "    'devices': '0'\n",
    "}\n",
    "\n",
    "XGB_Best_Params = {\n",
    "    'n_estimators': 700,\n",
    "    'max_depth': 4,\n",
    "    'learning_rate': 0.03325152156380898,\n",
    "    'subsample': 0.25295047248406266,\n",
    "    'colsample_bytree': 0.9760859719849787,\n",
    "    'gamma': 0.20085951790463402,\n",
    "    'min_child_weight': 11,\n",
    "    'eval_metric': 'rmse',\n",
    "    'objective': 'reg:squarederror',\n",
    "    'tree_method': 'gpu_hist',\n",
    "    'predictor': 'gpu_predictor',\n",
    "    'gpu_id': 0\n",
    "}\n",
    "\n",
    "LightGBM_Best_Params = {\n",
    "    'max_depth': 3,\n",
    "    'min_data_in_leaf': 40,\n",
    "    'num_leaves': 190,\n",
    "    'learning_rate': 0.05107368421432176,\n",
    "    'feature_fraction': 0.9918350138636185,\n",
    "    'bagging_fraction': 0.9331400899763774,\n",
    "    'bagging_freq': 1,\n",
    "    'lambda_l1': 9.49641646280519,\n",
    "    'lambda_l2': 2.446305429623661,\n",
    "    'min_gain_to_split': 0.05262124930522051,\n",
    "    'device_type': 'gpu',\n",
    "    'gpu_device_id': 0,\n",
    "    'verbosity': -1\n",
    "}\n",
    "\n",
    "catboost_model = CatBoostRegressor(**CatBoost_Best_Params)\n",
    "xgb_model = XGBRegressor(**XGB_Best_Params)\n",
    "lightgbm_model = LGBMRegressor(**LightGBM_Best_Params)\n",
    "svr_model = SVR(**SVR_Best_Params)\n",
    "\n",
    "final_voting_model = VotingRegressor(estimators=[\n",
    "    ('lightgbm', lightgbm_model),\n",
    "    ('xgboost', xgb_model),\n",
    "    ('catboost', catboost_model),\n",
    "], weights=[4.0, 4.0, 4.0])\n",
    "\n",
    "X = train.drop(['sii'], axis=1)\n",
    "y = train['sii']"
   ]
  },
  {
   "cell_type": "code",
   "execution_count": 69,
   "id": "eaa068ac",
   "metadata": {
    "execution": {
     "iopub.execute_input": "2024-12-23T08:57:24.830003Z",
     "iopub.status.busy": "2024-12-23T08:57:24.829815Z",
     "iopub.status.idle": "2024-12-23T08:57:31.183350Z",
     "shell.execute_reply": "2024-12-23T08:57:31.182516Z",
     "shell.execute_reply.started": "2024-12-23T08:57:24.829986Z"
    },
    "papermill": {
     "duration": 10.950368,
     "end_time": "2024-12-20T05:19:49.515798",
     "exception": false,
     "start_time": "2024-12-20T05:19:38.565430",
     "status": "completed"
    },
    "tags": [],
    "trusted": true
   },
   "outputs": [
    {
     "name": "stderr",
     "output_type": "stream",
     "text": [
      "Training Folds: 100%|██████████| 5/5 [00:06<00:00,  1.22s/it]"
     ]
    },
    {
     "name": "stdout",
     "output_type": "stream",
     "text": [
      "Mean Train QWK --> 0.4354\n",
      "Mean Validation QWK ---> 0.3546\n"
     ]
    },
    {
     "name": "stderr",
     "output_type": "stream",
     "text": [
      "\n"
     ]
    },
    {
     "name": "stdout",
     "output_type": "stream",
     "text": [
      "OPTIMIZED THRESHOLDS [0.57815622 1.02536737 2.55343637]\n",
      "----> || Optimized QWK SCORE :: \u001b[36m\u001b[1m 0.472\u001b[0m\n",
      "Val score sub1 with best parameters: 0.4724975689845031\n"
     ]
    }
   ],
   "source": [
    "submission1, val_score_sub1, _, _, _, _ = TrainML_Sub1(lightgbm_model, X_sub1, y_sub1, test_sub1)\n",
    "\n",
    "print(\"Val score sub1 with best parameters:\", val_score_sub1)"
   ]
  },
  {
   "cell_type": "markdown",
   "id": "93b863c2",
   "metadata": {
    "papermill": {
     "duration": 0.032582,
     "end_time": "2024-12-20T05:19:59.751404",
     "exception": false,
     "start_time": "2024-12-20T05:19:59.718822",
     "status": "completed"
    },
    "tags": []
   },
   "source": [
    "# Final"
   ]
  },
  {
   "cell_type": "code",
   "execution_count": 70,
   "id": "ce9f21ac",
   "metadata": {
    "execution": {
     "iopub.execute_input": "2024-12-23T08:57:31.185391Z",
     "iopub.status.busy": "2024-12-23T08:57:31.185152Z",
     "iopub.status.idle": "2024-12-23T08:57:31.192359Z",
     "shell.execute_reply": "2024-12-23T08:57:31.191308Z",
     "shell.execute_reply.started": "2024-12-23T08:57:31.185364Z"
    },
    "papermill": {
     "duration": 0.047824,
     "end_time": "2024-12-20T05:19:59.834213",
     "exception": false,
     "start_time": "2024-12-20T05:19:59.786389",
     "status": "completed"
    },
    "tags": [],
    "trusted": true
   },
   "outputs": [
    {
     "name": "stdout",
     "output_type": "stream",
     "text": [
      "Submission saved to 'submission.csv'\n"
     ]
    }
   ],
   "source": [
    "final_submission = submission1\n",
    "final_submission.to_csv('submission.csv', index=False)\n",
    "\n",
    "print(\"Submission saved to 'submission.csv'\")"
   ]
  },
  {
   "cell_type": "code",
   "execution_count": 71,
   "id": "43b4c3d6",
   "metadata": {
    "execution": {
     "iopub.execute_input": "2024-12-23T08:57:31.193935Z",
     "iopub.status.busy": "2024-12-23T08:57:31.193546Z",
     "iopub.status.idle": "2024-12-23T08:57:31.212634Z",
     "shell.execute_reply": "2024-12-23T08:57:31.211829Z",
     "shell.execute_reply.started": "2024-12-23T08:57:31.193910Z"
    },
    "papermill": {
     "duration": 0.045916,
     "end_time": "2024-12-20T05:19:59.912848",
     "exception": false,
     "start_time": "2024-12-20T05:19:59.866932",
     "status": "completed"
    },
    "tags": [],
    "trusted": true
   },
   "outputs": [
    {
     "data": {
      "text/html": [
       "<div>\n",
       "<style scoped>\n",
       "    .dataframe tbody tr th:only-of-type {\n",
       "        vertical-align: middle;\n",
       "    }\n",
       "\n",
       "    .dataframe tbody tr th {\n",
       "        vertical-align: top;\n",
       "    }\n",
       "\n",
       "    .dataframe thead th {\n",
       "        text-align: right;\n",
       "    }\n",
       "</style>\n",
       "<table border=\"1\" class=\"dataframe\">\n",
       "  <thead>\n",
       "    <tr style=\"text-align: right;\">\n",
       "      <th></th>\n",
       "      <th>id</th>\n",
       "      <th>sii</th>\n",
       "    </tr>\n",
       "  </thead>\n",
       "  <tbody>\n",
       "    <tr>\n",
       "      <th>0</th>\n",
       "      <td>00008ff9</td>\n",
       "      <td>1</td>\n",
       "    </tr>\n",
       "    <tr>\n",
       "      <th>1</th>\n",
       "      <td>000fd460</td>\n",
       "      <td>0</td>\n",
       "    </tr>\n",
       "    <tr>\n",
       "      <th>2</th>\n",
       "      <td>00105258</td>\n",
       "      <td>1</td>\n",
       "    </tr>\n",
       "    <tr>\n",
       "      <th>3</th>\n",
       "      <td>00115b9f</td>\n",
       "      <td>0</td>\n",
       "    </tr>\n",
       "    <tr>\n",
       "      <th>4</th>\n",
       "      <td>0016bb22</td>\n",
       "      <td>1</td>\n",
       "    </tr>\n",
       "    <tr>\n",
       "      <th>5</th>\n",
       "      <td>001f3379</td>\n",
       "      <td>1</td>\n",
       "    </tr>\n",
       "    <tr>\n",
       "      <th>6</th>\n",
       "      <td>0038ba98</td>\n",
       "      <td>1</td>\n",
       "    </tr>\n",
       "    <tr>\n",
       "      <th>7</th>\n",
       "      <td>0068a485</td>\n",
       "      <td>0</td>\n",
       "    </tr>\n",
       "    <tr>\n",
       "      <th>8</th>\n",
       "      <td>0069fbed</td>\n",
       "      <td>2</td>\n",
       "    </tr>\n",
       "    <tr>\n",
       "      <th>9</th>\n",
       "      <td>0083e397</td>\n",
       "      <td>1</td>\n",
       "    </tr>\n",
       "    <tr>\n",
       "      <th>10</th>\n",
       "      <td>0087dd65</td>\n",
       "      <td>1</td>\n",
       "    </tr>\n",
       "    <tr>\n",
       "      <th>11</th>\n",
       "      <td>00abe655</td>\n",
       "      <td>0</td>\n",
       "    </tr>\n",
       "    <tr>\n",
       "      <th>12</th>\n",
       "      <td>00ae59c9</td>\n",
       "      <td>1</td>\n",
       "    </tr>\n",
       "    <tr>\n",
       "      <th>13</th>\n",
       "      <td>00af6387</td>\n",
       "      <td>1</td>\n",
       "    </tr>\n",
       "    <tr>\n",
       "      <th>14</th>\n",
       "      <td>00bd4359</td>\n",
       "      <td>2</td>\n",
       "    </tr>\n",
       "    <tr>\n",
       "      <th>15</th>\n",
       "      <td>00c0cd71</td>\n",
       "      <td>0</td>\n",
       "    </tr>\n",
       "    <tr>\n",
       "      <th>16</th>\n",
       "      <td>00d56d4b</td>\n",
       "      <td>0</td>\n",
       "    </tr>\n",
       "    <tr>\n",
       "      <th>17</th>\n",
       "      <td>00d9913d</td>\n",
       "      <td>0</td>\n",
       "    </tr>\n",
       "    <tr>\n",
       "      <th>18</th>\n",
       "      <td>00e6167c</td>\n",
       "      <td>0</td>\n",
       "    </tr>\n",
       "    <tr>\n",
       "      <th>19</th>\n",
       "      <td>00ebc35d</td>\n",
       "      <td>1</td>\n",
       "    </tr>\n",
       "  </tbody>\n",
       "</table>\n",
       "</div>"
      ],
      "text/plain": [
       "          id  sii\n",
       "0   00008ff9    1\n",
       "1   000fd460    0\n",
       "2   00105258    1\n",
       "3   00115b9f    0\n",
       "4   0016bb22    1\n",
       "5   001f3379    1\n",
       "6   0038ba98    1\n",
       "7   0068a485    0\n",
       "8   0069fbed    2\n",
       "9   0083e397    1\n",
       "10  0087dd65    1\n",
       "11  00abe655    0\n",
       "12  00ae59c9    1\n",
       "13  00af6387    1\n",
       "14  00bd4359    2\n",
       "15  00c0cd71    0\n",
       "16  00d56d4b    0\n",
       "17  00d9913d    0\n",
       "18  00e6167c    0\n",
       "19  00ebc35d    1"
      ]
     },
     "execution_count": 71,
     "metadata": {},
     "output_type": "execute_result"
    }
   ],
   "source": [
    "final_submission"
   ]
  }
 ],
 "metadata": {
  "kaggle": {
   "accelerator": "gpu",
   "dataSources": [
    {
     "databundleVersionId": 9643020,
     "sourceId": 81933,
     "sourceType": "competition"
    }
   ],
   "dockerImageVersionId": 30823,
   "isGpuEnabled": true,
   "isInternetEnabled": false,
   "language": "python",
   "sourceType": "notebook"
  },
  "kernelspec": {
   "display_name": "Python 3",
   "language": "python",
   "name": "python3"
  },
  "language_info": {
   "codemirror_mode": {
    "name": "ipython",
    "version": 3
   },
   "file_extension": ".py",
   "mimetype": "text/x-python",
   "name": "python",
   "nbconvert_exporter": "python",
   "pygments_lexer": "ipython3",
   "version": "3.10.12"
  },
  "papermill": {
   "default_parameters": {},
   "duration": 264.389133,
   "end_time": "2024-12-20T05:20:02.962731",
   "environment_variables": {},
   "exception": null,
   "input_path": "__notebook__.ipynb",
   "output_path": "__notebook__.ipynb",
   "parameters": {},
   "start_time": "2024-12-20T05:15:38.573598",
   "version": "2.6.0"
  }
 },
 "nbformat": 4,
 "nbformat_minor": 5
}
